{
  "nbformat": 4,
  "nbformat_minor": 0,
  "metadata": {
    "colab": {
      "name": "vine_review_analysis",
      "provenance": [],
      "collapsed_sections": [],
      "authorship_tag": "ABX9TyPR5Sju0VC3+UU/k8hXYg46",
      "include_colab_link": true
    },
    "kernelspec": {
      "name": "python3",
      "display_name": "Python 3"
    },
    "language_info": {
      "name": "python"
    }
  },
  "cells": [
    {
      "cell_type": "markdown",
      "metadata": {
        "id": "view-in-github",
        "colab_type": "text"
      },
      "source": [
        "<a href=\"https://colab.research.google.com/github/Lesliec87/Amazon_Vine_Analysis/blob/main/vine_review_analysis.ipynb\" target=\"_parent\"><img src=\"https://colab.research.google.com/assets/colab-badge.svg\" alt=\"Open In Colab\"/></a>"
      ]
    },
    {
      "cell_type": "code",
      "execution_count": 1,
      "metadata": {
        "colab": {
          "base_uri": "https://localhost:8080/"
        },
        "id": "tbqVTt2qY3VX",
        "outputId": "ab12f655-f267-4ac3-fd1a-e5f99feb2b34"
      },
      "outputs": [
        {
          "output_type": "stream",
          "name": "stdout",
          "text": [
            "\r0% [Working]\r            \rHit:1 https://developer.download.nvidia.com/compute/cuda/repos/ubuntu1804/x86_64  InRelease\n",
            "\r0% [Connecting to archive.ubuntu.com] [Connecting to security.ubuntu.com (91.18\r                                                                               \rGet:2 https://cloud.r-project.org/bin/linux/ubuntu bionic-cran40/ InRelease [3,626 B]\n",
            "\r                                                                               \rIgn:3 https://developer.download.nvidia.com/compute/machine-learning/repos/ubuntu1804/x86_64  InRelease\n",
            "Hit:4 https://developer.download.nvidia.com/compute/machine-learning/repos/ubuntu1804/x86_64  Release\n",
            "Get:5 http://security.ubuntu.com/ubuntu bionic-security InRelease [88.7 kB]\n",
            "Hit:6 http://archive.ubuntu.com/ubuntu bionic InRelease\n",
            "Hit:7 http://ppa.launchpad.net/c2d4u.team/c2d4u4.0+/ubuntu bionic InRelease\n",
            "Get:8 http://archive.ubuntu.com/ubuntu bionic-updates InRelease [88.7 kB]\n",
            "Hit:9 http://ppa.launchpad.net/cran/libgit2/ubuntu bionic InRelease\n",
            "Hit:10 http://ppa.launchpad.net/deadsnakes/ppa/ubuntu bionic InRelease\n",
            "Get:11 http://archive.ubuntu.com/ubuntu bionic-backports InRelease [74.6 kB]\n",
            "Hit:12 http://ppa.launchpad.net/graphics-drivers/ppa/ubuntu bionic InRelease\n",
            "Get:14 http://security.ubuntu.com/ubuntu bionic-security/main amd64 Packages [2,867 kB]\n",
            "Get:15 http://archive.ubuntu.com/ubuntu bionic-updates/restricted amd64 Packages [1,075 kB]\n",
            "Get:16 http://archive.ubuntu.com/ubuntu bionic-updates/main amd64 Packages [3,298 kB]\n",
            "Get:17 http://archive.ubuntu.com/ubuntu bionic-updates/universe amd64 Packages [2,298 kB]\n",
            "Fetched 9,793 kB in 7s (1,474 kB/s)\n",
            "Reading package lists... Done\n"
          ]
        }
      ],
      "source": [
        "import os\n",
        "# Find the latest version of spark 3.0 from http://www.apache.org/dist/spark/ and enter as the spark version\n",
        "# For example:\n",
        "# spark_version = 'spark-3.0.3'\n",
        "spark_version = 'spark-3.0.3'\n",
        "os.environ['SPARK_VERSION']=spark_version\n",
        "\n",
        "# Install Spark and Java\n",
        "!apt-get update\n",
        "!apt-get install openjdk-11-jdk-headless -qq > /dev/null\n",
        "!wget -q http://www.apache.org/dist/spark/$SPARK_VERSION/$SPARK_VERSION-bin-hadoop2.7.tgz\n",
        "!tar xf $SPARK_VERSION-bin-hadoop2.7.tgz\n",
        "!pip install -q findspark\n",
        "\n",
        "# Set Environment Variables\n",
        "import os\n",
        "os.environ[\"JAVA_HOME\"] = \"/usr/lib/jvm/java-11-openjdk-amd64\"\n",
        "os.environ[\"SPARK_HOME\"] = f\"/content/{spark_version}-bin-hadoop2.7\"\n",
        "\n",
        "# Start a SparkSession\n",
        "import findspark\n",
        "findspark.init()"
      ]
    },
    {
      "cell_type": "code",
      "source": [
        "# Download the Postgres driver that will allow Spark to interact with Postgres.\n",
        "!wget https://jdbc.postgresql.org/download/postgresql-42.2.16.jar"
      ],
      "metadata": {
        "colab": {
          "base_uri": "https://localhost:8080/"
        },
        "id": "yKH5theHZH0Z",
        "outputId": "d6d1e227-c41e-4cf8-bd44-60b2fb94ef95"
      },
      "execution_count": 2,
      "outputs": [
        {
          "output_type": "stream",
          "name": "stdout",
          "text": [
            "--2022-06-30 20:54:37--  https://jdbc.postgresql.org/download/postgresql-42.2.16.jar\n",
            "Resolving jdbc.postgresql.org (jdbc.postgresql.org)... 72.32.157.228, 2001:4800:3e1:1::228\n",
            "Connecting to jdbc.postgresql.org (jdbc.postgresql.org)|72.32.157.228|:443... connected.\n",
            "HTTP request sent, awaiting response... 200 OK\n",
            "Length: 1002883 (979K) [application/java-archive]\n",
            "Saving to: ‘postgresql-42.2.16.jar’\n",
            "\n",
            "postgresql-42.2.16. 100%[===================>] 979.38K  5.86MB/s    in 0.2s    \n",
            "\n",
            "2022-06-30 20:54:37 (5.86 MB/s) - ‘postgresql-42.2.16.jar’ saved [1002883/1002883]\n",
            "\n"
          ]
        }
      ]
    },
    {
      "cell_type": "code",
      "source": [
        "from pyspark.sql import SparkSession\n",
        "spark = SparkSession.builder.appName(\"M16-Amazon-Challenge\").config(\"spark.driver.extraClassPath\",\"/content/postgresql-42.2.16.jar\").getOrCreate()"
      ],
      "metadata": {
        "id": "T0B6JYoMZIma"
      },
      "execution_count": 3,
      "outputs": []
    },
    {
      "cell_type": "code",
      "source": [
        "from pyspark import SparkFiles\n",
        "url = \"https://s3.amazonaws.com/amazon-reviews-pds/tsv/amazon_reviews_us_Lawn_and_Garden_v1_00.tsv.gz\"\n",
        "spark.sparkContext.addFile(url)\n",
        "df = spark.read.option(\"encoding\", \"UTF-8\").csv(SparkFiles.get(\"\"), sep=\"\\t\", header=True, inferSchema=True)\n",
        "df.show()"
      ],
      "metadata": {
        "colab": {
          "base_uri": "https://localhost:8080/"
        },
        "id": "Nmyt8np3ZQIO",
        "outputId": "9ee151f6-2471-459b-e6f8-1f37b6fa8b86"
      },
      "execution_count": 4,
      "outputs": [
        {
          "output_type": "stream",
          "name": "stdout",
          "text": [
            "+-----------+-----------+--------------+----------+--------------+--------------------+----------------+-----------+-------------+-----------+----+-----------------+--------------------+--------------------+-----------+\n",
            "|marketplace|customer_id|     review_id|product_id|product_parent|       product_title|product_category|star_rating|helpful_votes|total_votes|vine|verified_purchase|     review_headline|         review_body|review_date|\n",
            "+-----------+-----------+--------------+----------+--------------+--------------------+----------------+-----------+-------------+-----------+----+-----------------+--------------------+--------------------+-----------+\n",
            "|         US|   32787517| RED72VWWCOS7S|B008HDQYLQ|     348668413|Garden Weasel Gar...| Lawn and Garden|          1|            2|          8|   N|                Y|            One Star|I don't hate the ...| 2015-08-31|\n",
            "|         US|   16374060| RZHWQ208LTEPV|B005OBZBD6|     264704759|10 Foot Mc4 Solar...| Lawn and Garden|          5|            0|          0|   N|                Y|          Five Stars|        worked great| 2015-08-31|\n",
            "|         US|    9984817|R37LBC3XAVLYOO|B00RQL8U2G|      95173602|GE String A Long ...| Lawn and Garden|          5|            4|          5|   N|                Y|just what i neede...|just what i neede...| 2015-08-31|\n",
            "|         US|   12635190|R3L7XJMA0MVJWC|B0081SBO4Y|     835659279|Key Pair Lawn Wit...| Lawn and Garden|          5|            0|          0|   N|                Y|                Keys|Needed replacemen...| 2015-08-31|\n",
            "|         US|   43905102|R2I2GHSI7T1UBN|B008E6OK3U|     539243347|Zodiac R0502300 L...| Lawn and Garden|          1|            5|          6|   N|                Y|       Too expensive|Assuming you don'...| 2015-08-31|\n",
            "|         US|   52596997|R2GFFKHK4I6VMX|B00W6NTULY|     337446474|Hirts Gardens Swe...| Lawn and Garden|          5|            0|          0|   N|                Y|                Nice|Beautifully packa...| 2015-08-31|\n",
            "|         US|   43871104|R1R0UDX2XAN1S4|B00GXUMYKA|     468857193|AGPtEK 12 PCS Smo...| Lawn and Garden|          4|            0|          0|   N|                Y|These were pretty...|These were pretty...| 2015-08-31|\n",
            "|         US|   11346008|R22C8FMBSTFRY8|B005EIX8JS|     125753094|Design Toscano Ea...| Lawn and Garden|          5|            2|          2|   N|                Y|Kids love it. WIs...|Its in the center...| 2015-08-31|\n",
            "|         US|   49206471|R118NNIQ75XPGO|B000HJBKMQ|     834273114|TERRO T300 Liquid...| Lawn and Garden|          3|            0|          0|   N|                Y|      A little messy|The ants were att...| 2015-08-31|\n",
            "|         US|   37596267|R30HYXHZQ49621|B004LY59V6|     612086079|BLACK+DECKER LBXR...| Lawn and Garden|          2|            0|          0|   N|                Y|Does not hold a c...|This is advertise...| 2015-08-31|\n",
            "|         US|   31554283|R3EMLKY0GF1E90|B00CAVM85M|     280334010|Reach 'n Spray Pe...| Lawn and Garden|          5|            0|          0|   N|                Y|          Five Stars|Well made product...| 2015-08-31|\n",
            "|         US|   43211735|R23BX7EGJMGQJR|B00DP6X1LG|     233116679|Puro-Kleen Ultra-...| Lawn and Garden|          5|            1|          2|   N|                Y|It's easy to cut ...|I used this for a...| 2015-08-31|\n",
            "|         US|   25705116|R2Z4B6SDEAZF6E|B00025H2PY|     592807498|Diatomaceous Eart...| Lawn and Garden|          5|            0|          0|   N|                Y|          Five Stars|Great stuff. Gets...| 2015-08-31|\n",
            "|         US|   47041108|R35289PGJERP5J|B0079GHJXY|     408290044|Perky-Pet 312C Pa...| Lawn and Garden|          5|            0|          0|   N|                Y|          Five Stars|   Very good quality| 2015-08-31|\n",
            "|         US|    1534667|R39BPRMDKKIZL2|B004HFJ762|     404737140|Crossbow Dow Spec...| Lawn and Garden|          1|            4|          6|   N|                Y|Wrong Product- No...|This product was ...| 2015-08-31|\n",
            "|         US|   52287759| R6WFPPBS1DZMG|B00004RAGL|     773636542|Apex REM 15 15-Fo...| Lawn and Garden|          5|            0|          0|   N|                Y|dehumidifier drai...|the hose worked w...| 2015-08-31|\n",
            "|         US|   37010286| RK72M0ZBV9YLS|B010PWBNNK|     461072629|Elucto Electric B...| Lawn and Garden|          1|            3|          3|   N|                Y|   not easy it seems|I haven't killed ...| 2015-08-31|\n",
            "|         US|   30576559| RX5G150AUWRDJ|B00T77AWY6|     365662076|Ohuhu® 100 Ft Exp...| Lawn and Garden|          1|            0|          0|   N|                Y|          Five Stars|I m very disappoi...| 2015-08-31|\n",
            "|         US|   10291713|R1TMSZWIT21A31|B000UJH6HQ|     228393894|Toro 53746 Drip B...| Lawn and Garden|          3|            1|          2|   N|                Y|     Could be better|this is the fourt...| 2015-08-31|\n",
            "|         US|   50656780|R2FURVPW763CIM|B000HJBKMQ|     834273114|TERRO T300 Liquid...| Lawn and Garden|          5|            0|          0|   N|                Y|Sugar Ants are ho...|Best thing you ca...| 2015-08-31|\n",
            "+-----------+-----------+--------------+----------+--------------+--------------------+----------------+-----------+-------------+-----------+----+-----------------+--------------------+--------------------+-----------+\n",
            "only showing top 20 rows\n",
            "\n"
          ]
        }
      ]
    },
    {
      "cell_type": "code",
      "source": [
        "totalvotes_20_df = df.filter(\"total_votes>=20\")\n",
        "totalvotes_20_df.show()"
      ],
      "metadata": {
        "colab": {
          "base_uri": "https://localhost:8080/"
        },
        "id": "pUy4oWjVZr_S",
        "outputId": "76879237-2731-4364-b24e-c624ca12146e"
      },
      "execution_count": 15,
      "outputs": [
        {
          "output_type": "stream",
          "name": "stdout",
          "text": [
            "+-----------+-----------+--------------+----------+--------------+--------------------+----------------+-----------+-------------+-----------+----+-----------------+--------------------+--------------------+-----------+\n",
            "|marketplace|customer_id|     review_id|product_id|product_parent|       product_title|product_category|star_rating|helpful_votes|total_votes|vine|verified_purchase|     review_headline|         review_body|review_date|\n",
            "+-----------+-----------+--------------+----------+--------------+--------------------+----------------+-----------+-------------+-----------+----+-----------------+--------------------+--------------------+-----------+\n",
            "|         US|   39823685| RQQ3KVTU5TJ4I|B00005A3L1|     436617004|Bounty Hunter TK4...| Lawn and Garden|          5|           24|         29|   N|                Y|Payed for itself ...|I purchase this m...| 2015-08-31|\n",
            "|         US|   35875101|R3FELXWV9T5CWE|B00VQVPRH8|     733961147|Multi-Purpose Boo...| Lawn and Garden|          2|           22|         24|   N|                Y|Not worth this pr...|It is just a tray...| 2015-08-31|\n",
            "|         US|   15323081| ROBYK6EZYK398|B00GOH6WVY|     746010001|Root Naturally Az...| Lawn and Garden|          5|           29|         30|   N|                Y|Really amazing re...|Mixed it with fis...| 2015-08-31|\n",
            "|         US|   13866645|R2RKCSAG6GBA4A|B00O97CPIK|     860333862|Rid Tech Ultrason...| Lawn and Garden|          1|            8|         28|   N|                Y|This product does...|This product does...| 2015-08-31|\n",
            "|         US|   46178267|R2YVBBR6NXIA4V|B012VQUQQ8|     108738594|Insect Repellent ...| Lawn and Garden|          5|           25|         28|   N|                N|No Burn, No Itch,...|[[VIDEOID:2c6e5a6...| 2015-08-31|\n",
            "|         US|   16743221|R2AVTBDIVG2AW4|B00XQKYYYE|     455647274|Best BBQ Meat Cla...| Lawn and Garden|          5|           26|         26|   N|                N|BBQ Essential too...|I love the idea o...| 2015-08-31|\n",
            "|         US|   14749576|R1Z2LNN3FANMTO|B00GJEPP92|     670164064|Char-Griller Akor...| Lawn and Garden|          1|           20|         24|   N|                N|Would NOT recomme...|Would be great if...| 2015-08-31|\n",
            "|         US|   25322517|  RLNULBKRWNNR|B00ZUQCUOS|     992803790|Self Watering Pla...| Lawn and Garden|          5|           42|         43|   N|                Y|           Good pots|Very good looking...| 2015-08-31|\n",
            "|         US|   14479930| R9QNQUL94RX1F|B00W6PJ7PG|     358771769|Large Brazilian H...| Lawn and Garden|          3|           27|         33|   N|                Y|... for my boys w...|Bought this chair...| 2015-08-31|\n",
            "|         US|   36328996| RTULFZTUS1VBP|B001FFTGP4|     503395058|Insect Repellent ...| Lawn and Garden|          5|           51|         52|   N|                Y|       great product|We spray our yard...| 2015-08-31|\n",
            "|         US|   45460744|R1BM9RBQWI62O2|B0135OA3PO|     203390101|Star Shower As Se...| Lawn and Garden|          5|           43|         60|   N|                N|Easy lighting sol...|I've been using l...| 2015-08-31|\n",
            "|         US|   44574456| RWB6V9IYCOJFX|B00ZVKCSGI|     258441149|Punchau Lawn Aera...| Lawn and Garden|          4|           39|         41|   N|                Y|Better than cramp...|I got these since...| 2015-08-31|\n",
            "|         US|   36328996|R15FA7GCXKC7YE|B00XI0X1EG|     701452023| Master 161 Splitter| Lawn and Garden|          1|           40|         41|   N|                Y|Plastic broke aft...|Loved this so muc...| 2015-08-31|\n",
            "|         US|   14004675|R2OQAI6AV8AH8Z|B00GSZBTSI|     287959231|Scala Home Barbeq...| Lawn and Garden|          1|           19|         32|   N|                Y|Ripped after 11 m...|Purchased this it...| 2015-08-31|\n",
            "|         US|   14713147|R2XD5CWZ4Z87ZR|B00F0LFNO2|      97345812|Ortho 0202310 Aer...| Lawn and Garden|          5|           19|         25|   N|                Y|I HAD To Write A ...|This is the kind ...| 2015-08-31|\n",
            "|         US|   15412559|R3LLBXVCEY5JKB|B0086O04AI|     287084771|Herb Seeds - Lemo...| Lawn and Garden|          1|           33|         35|   N|                Y|but seems like a ...|Shipped from Sing...| 2015-08-31|\n",
            "|         US|   18048088| RQWM8U7YH93TT|B00CAVMMMG|     574876622|Grape Solar GS-ST...| Lawn and Garden|          4|           92|         93|   N|                N|Do The Math Befor...|Having read some ...| 2015-08-31|\n",
            "|         US|   18469685|R2DEO6P7BEZ9UI|B00KDR5Z8W|     519223542|Aspects ASPECTS43...| Lawn and Garden|          5|           38|         38|   N|                Y|Day 1 and Several...|I just received i...| 2015-08-31|\n",
            "|         US|   43748997|R2CKYIHUSK3IEP|B010PWBNNK|     461072629|Elucto Electric B...| Lawn and Garden|          1|           74|         88|   N|                Y|amazingly useless...|UPDATE: About 10 ...| 2015-08-31|\n",
            "|         US|    1459177| RY0DMUQKNF8MT|B004R47NCS|     911589010|24-ft. Round Over...| Lawn and Garden|          5|           32|         33|   N|                Y|It was the best p...|I ordered (and in...| 2015-08-31|\n",
            "+-----------+-----------+--------------+----------+--------------+--------------------+----------------+-----------+-------------+-----------+----+-----------------+--------------------+--------------------+-----------+\n",
            "only showing top 20 rows\n",
            "\n"
          ]
        }
      ]
    },
    {
      "cell_type": "code",
      "source": [
        "helpful_50_df = totalvotes_20_df.filter(\"helpful_votes/total_votes>=.50\")\n",
        "helpful_50_df.show()"
      ],
      "metadata": {
        "colab": {
          "base_uri": "https://localhost:8080/"
        },
        "id": "savVpwmTZxr7",
        "outputId": "e19095a8-0345-40f7-ae9d-18f810fc82b4"
      },
      "execution_count": 16,
      "outputs": [
        {
          "output_type": "stream",
          "name": "stdout",
          "text": [
            "+-----------+-----------+--------------+----------+--------------+--------------------+----------------+-----------+-------------+-----------+----+-----------------+--------------------+--------------------+-----------+\n",
            "|marketplace|customer_id|     review_id|product_id|product_parent|       product_title|product_category|star_rating|helpful_votes|total_votes|vine|verified_purchase|     review_headline|         review_body|review_date|\n",
            "+-----------+-----------+--------------+----------+--------------+--------------------+----------------+-----------+-------------+-----------+----+-----------------+--------------------+--------------------+-----------+\n",
            "|         US|   39823685| RQQ3KVTU5TJ4I|B00005A3L1|     436617004|Bounty Hunter TK4...| Lawn and Garden|          5|           24|         29|   N|                Y|Payed for itself ...|I purchase this m...| 2015-08-31|\n",
            "|         US|   35875101|R3FELXWV9T5CWE|B00VQVPRH8|     733961147|Multi-Purpose Boo...| Lawn and Garden|          2|           22|         24|   N|                Y|Not worth this pr...|It is just a tray...| 2015-08-31|\n",
            "|         US|   15323081| ROBYK6EZYK398|B00GOH6WVY|     746010001|Root Naturally Az...| Lawn and Garden|          5|           29|         30|   N|                Y|Really amazing re...|Mixed it with fis...| 2015-08-31|\n",
            "|         US|   46178267|R2YVBBR6NXIA4V|B012VQUQQ8|     108738594|Insect Repellent ...| Lawn and Garden|          5|           25|         28|   N|                N|No Burn, No Itch,...|[[VIDEOID:2c6e5a6...| 2015-08-31|\n",
            "|         US|   16743221|R2AVTBDIVG2AW4|B00XQKYYYE|     455647274|Best BBQ Meat Cla...| Lawn and Garden|          5|           26|         26|   N|                N|BBQ Essential too...|I love the idea o...| 2015-08-31|\n",
            "|         US|   14749576|R1Z2LNN3FANMTO|B00GJEPP92|     670164064|Char-Griller Akor...| Lawn and Garden|          1|           20|         24|   N|                N|Would NOT recomme...|Would be great if...| 2015-08-31|\n",
            "|         US|   25322517|  RLNULBKRWNNR|B00ZUQCUOS|     992803790|Self Watering Pla...| Lawn and Garden|          5|           42|         43|   N|                Y|           Good pots|Very good looking...| 2015-08-31|\n",
            "|         US|   14479930| R9QNQUL94RX1F|B00W6PJ7PG|     358771769|Large Brazilian H...| Lawn and Garden|          3|           27|         33|   N|                Y|... for my boys w...|Bought this chair...| 2015-08-31|\n",
            "|         US|   36328996| RTULFZTUS1VBP|B001FFTGP4|     503395058|Insect Repellent ...| Lawn and Garden|          5|           51|         52|   N|                Y|       great product|We spray our yard...| 2015-08-31|\n",
            "|         US|   45460744|R1BM9RBQWI62O2|B0135OA3PO|     203390101|Star Shower As Se...| Lawn and Garden|          5|           43|         60|   N|                N|Easy lighting sol...|I've been using l...| 2015-08-31|\n",
            "|         US|   44574456| RWB6V9IYCOJFX|B00ZVKCSGI|     258441149|Punchau Lawn Aera...| Lawn and Garden|          4|           39|         41|   N|                Y|Better than cramp...|I got these since...| 2015-08-31|\n",
            "|         US|   36328996|R15FA7GCXKC7YE|B00XI0X1EG|     701452023| Master 161 Splitter| Lawn and Garden|          1|           40|         41|   N|                Y|Plastic broke aft...|Loved this so muc...| 2015-08-31|\n",
            "|         US|   14004675|R2OQAI6AV8AH8Z|B00GSZBTSI|     287959231|Scala Home Barbeq...| Lawn and Garden|          1|           19|         32|   N|                Y|Ripped after 11 m...|Purchased this it...| 2015-08-31|\n",
            "|         US|   14713147|R2XD5CWZ4Z87ZR|B00F0LFNO2|      97345812|Ortho 0202310 Aer...| Lawn and Garden|          5|           19|         25|   N|                Y|I HAD To Write A ...|This is the kind ...| 2015-08-31|\n",
            "|         US|   15412559|R3LLBXVCEY5JKB|B0086O04AI|     287084771|Herb Seeds - Lemo...| Lawn and Garden|          1|           33|         35|   N|                Y|but seems like a ...|Shipped from Sing...| 2015-08-31|\n",
            "|         US|   18048088| RQWM8U7YH93TT|B00CAVMMMG|     574876622|Grape Solar GS-ST...| Lawn and Garden|          4|           92|         93|   N|                N|Do The Math Befor...|Having read some ...| 2015-08-31|\n",
            "|         US|   18469685|R2DEO6P7BEZ9UI|B00KDR5Z8W|     519223542|Aspects ASPECTS43...| Lawn and Garden|          5|           38|         38|   N|                Y|Day 1 and Several...|I just received i...| 2015-08-31|\n",
            "|         US|   43748997|R2CKYIHUSK3IEP|B010PWBNNK|     461072629|Elucto Electric B...| Lawn and Garden|          1|           74|         88|   N|                Y|amazingly useless...|UPDATE: About 10 ...| 2015-08-31|\n",
            "|         US|    1459177| RY0DMUQKNF8MT|B004R47NCS|     911589010|24-ft. Round Over...| Lawn and Garden|          5|           32|         33|   N|                Y|It was the best p...|I ordered (and in...| 2015-08-31|\n",
            "|         US|     212947|R33XCAJDTPOUQS|B00PWXE7VS|     622031901|Grand Wishing Wel...| Lawn and Garden|          5|           22|         23|   N|                Y|          Five Stars|Really love it. M...| 2015-08-31|\n",
            "+-----------+-----------+--------------+----------+--------------+--------------------+----------------+-----------+-------------+-----------+----+-----------------+--------------------+--------------------+-----------+\n",
            "only showing top 20 rows\n",
            "\n"
          ]
        }
      ]
    },
    {
      "cell_type": "code",
      "source": [
        "vine_y_review_df = helpful_50_df.filter(helpful_50_df[\"vine\"] == \"Y\")\n",
        "vine_y_review_df.show()"
      ],
      "metadata": {
        "colab": {
          "base_uri": "https://localhost:8080/"
        },
        "id": "6QU2GLXjZ5kv",
        "outputId": "3d2ea6fe-fcc4-4c97-cc2d-52b4f5017940"
      },
      "execution_count": 17,
      "outputs": [
        {
          "output_type": "stream",
          "name": "stdout",
          "text": [
            "+-----------+-----------+--------------+----------+--------------+--------------------+----------------+-----------+-------------+-----------+----+-----------------+--------------------+--------------------+-----------+\n",
            "|marketplace|customer_id|     review_id|product_id|product_parent|       product_title|product_category|star_rating|helpful_votes|total_votes|vine|verified_purchase|     review_headline|         review_body|review_date|\n",
            "+-----------+-----------+--------------+----------+--------------+--------------------+----------------+-----------+-------------+-----------+----+-----------------+--------------------+--------------------+-----------+\n",
            "|         US|   50842604|R28DXTC3JQ9IY1|B00O06YMGI|     949367908|Char-Broil Kettle...| Lawn and Garden|          4|           24|         26|   Y|                N|Consider Before B...|Everyone knows th...| 2015-08-23|\n",
            "|         US|   46343881|R3AFZKLQXATHBU|B00SMRXYCE|     726092120|Char-Broil Deluxe...| Lawn and Garden|          5|           44|         49|   Y|                N|until you taste s...|[[VIDEOID:1b21ed4...| 2015-08-18|\n",
            "|         US|   43715603|R2RUUF2JPJPC0E|B00S13DB9A|      95184818|AmazonBasics Rect...| Lawn and Garden|          4|           20|         22|   Y|                N|Nice cover, but m...|This table cover ...| 2015-08-12|\n",
            "|         US|   47409904| RFZ2WUH4248AB|B00SG9G84E|     262007795|NEW GAME 9015 12-...| Lawn and Garden|          2|           26|         27|   Y|                N|A cool outdoor so...|This Galaxy GLO i...| 2015-08-11|\n",
            "|         US|   50868897|R1Q4LVHIFOWYFR|B00O06YMGI|     949367908|Char-Broil Kettle...| Lawn and Garden|          5|           23|         28|   Y|                N|A fantastic kettl...|[[VIDEOID:a963e55...| 2015-08-10|\n",
            "|         US|   52838385| R4YEPTQED3X1Q|B00O06YMGI|     949367908|Char-Broil Kettle...| Lawn and Garden|          5|           19|         20|   Y|                N|Many useful featu...|What a GREAT gril...| 2015-08-07|\n",
            "|         US|   16733567|R2Z7C8YCRSC9DP|B00S13DBW2|     941648048|AmazonBasics Stac...| Lawn and Garden|          5|           22|         22|   Y|                N|Large, Nice Const...|I have a set of s...| 2015-07-31|\n",
            "|         US|   52097549|R3J8OI5CB74P5K|B00R3U5ABY|     386490488|SaluSpa Palm Spri...| Lawn and Garden|          1|           22|         25|   Y|                N|Sorry for a poor ...|Too many problems...| 2015-07-31|\n",
            "|         US|   51956455| RH39LMKN6AZDC|B00M02LOA6|     635328899|Raven 4000-watt G...| Lawn and Garden|          5|           33|         40|   Y|                N|Raven GEN4000 and...|I bought the WEN ...| 2015-07-28|\n",
            "|         US|   51302590| R8RD8K0ESJSRD|B00LFIZ4RU|     372084421|AmazonBasics Dini...| Lawn and Garden|          5|           21|         21|   Y|                N|Well Made Product...|I am completely i...| 2015-07-15|\n",
            "|         US|   16733567| R6P04SW0Z1FCR|B00T06WEZY|     181668454|Cuisinart CMD-112...| Lawn and Garden|          5|           20|         25|   Y|                N|Helps Steam and Melt|I have always wan...| 2015-07-13|\n",
            "|         US|   50725579|R32LMNP5ZU2F6G|B00S13D3DO|     605607887|AmazonBasics Gril...| Lawn and Garden|          3|           33|         37|   Y|                N|Good for about a ...|This is a review ...| 2015-07-13|\n",
            "|         US|   41867129|R21L9F1CIGVQ7H|B00SMNLF4M|     458320054|WEN 4-Stroke Gas ...| Lawn and Garden|          5|           35|         45|   Y|                N|So much more vers...|This little marve...| 2015-07-10|\n",
            "|         US|   10044936|R3407EU7EKOUMA|B00FGPTXLG|     772629373|Pit Boss Grills 3...| Lawn and Garden|          4|           31|         40|   Y|                N|Pit Boss Wood Pel...|The Pit Boss 7182...| 2015-07-02|\n",
            "|         US|   52373797| RDFMCB5Q7U0UW|B00W6NTMS0|     441055512|Taylor 6700 Big a...| Lawn and Garden|          4|          152|        155|   Y|                N|Cheery color, lar...|Because so many r...| 2015-06-29|\n",
            "|         US|   34160155|R2U38GEWPJG6JI|B00R6Z4R42|     412687610|GreenWorks Pro GC...| Lawn and Garden|          5|           63|         66|   Y|                N|80V Lithium power...|The GreenWorks GC...| 2015-06-18|\n",
            "|         US|   52813641|R1E24YIQRGSP10|B00SMNLF4M|     458320054|WEN 4-Stroke Gas ...| Lawn and Garden|          5|           30|         40|   Y|                N|Skip The Honda EU...|This generator pa...| 2015-06-18|\n",
            "|         US|   51859664|R3L7PBHQGA3LB0|B00IMZVQ6M|     104098563|Scotts Turf Build...| Lawn and Garden|          3|           14|         20|   Y|                N|Not as Safe as I ...|I wish I'd done m...| 2015-06-13|\n",
            "|         US|   39226691| R91BX5ZLRONPJ|B00PSQ4X2W|     152262183|GreenWorks Electr...| Lawn and Garden|          4|           16|         21|   Y|                N|Easy Set Up, Easy...|Prior to this Pre...| 2015-06-11|\n",
            "|         US|   40649038|R1P31XRPGIF50W|B00R3U5ABY|     386490488|SaluSpa Palm Spri...| Lawn and Garden|          4|           33|         38|   Y|                N|Non-permanent, al...|This inflatable h...| 2015-06-11|\n",
            "+-----------+-----------+--------------+----------+--------------+--------------------+----------------+-----------+-------------+-----------+----+-----------------+--------------------+--------------------+-----------+\n",
            "only showing top 20 rows\n",
            "\n"
          ]
        }
      ]
    },
    {
      "cell_type": "code",
      "source": [
        "vine_n_review_df = helpful_50_df.filter(helpful_50_df[\"vine\"] == \"N\")\n",
        "vine_n_review_df.show()"
      ],
      "metadata": {
        "colab": {
          "base_uri": "https://localhost:8080/"
        },
        "id": "dfgB9hRMZ9fy",
        "outputId": "1fa1a139-1d44-42b2-d0b2-1f8439e5f3ad"
      },
      "execution_count": 18,
      "outputs": [
        {
          "output_type": "stream",
          "name": "stdout",
          "text": [
            "+-----------+-----------+--------------+----------+--------------+--------------------+----------------+-----------+-------------+-----------+----+-----------------+--------------------+--------------------+-----------+\n",
            "|marketplace|customer_id|     review_id|product_id|product_parent|       product_title|product_category|star_rating|helpful_votes|total_votes|vine|verified_purchase|     review_headline|         review_body|review_date|\n",
            "+-----------+-----------+--------------+----------+--------------+--------------------+----------------+-----------+-------------+-----------+----+-----------------+--------------------+--------------------+-----------+\n",
            "|         US|   39823685| RQQ3KVTU5TJ4I|B00005A3L1|     436617004|Bounty Hunter TK4...| Lawn and Garden|          5|           24|         29|   N|                Y|Payed for itself ...|I purchase this m...| 2015-08-31|\n",
            "|         US|   35875101|R3FELXWV9T5CWE|B00VQVPRH8|     733961147|Multi-Purpose Boo...| Lawn and Garden|          2|           22|         24|   N|                Y|Not worth this pr...|It is just a tray...| 2015-08-31|\n",
            "|         US|   15323081| ROBYK6EZYK398|B00GOH6WVY|     746010001|Root Naturally Az...| Lawn and Garden|          5|           29|         30|   N|                Y|Really amazing re...|Mixed it with fis...| 2015-08-31|\n",
            "|         US|   46178267|R2YVBBR6NXIA4V|B012VQUQQ8|     108738594|Insect Repellent ...| Lawn and Garden|          5|           25|         28|   N|                N|No Burn, No Itch,...|[[VIDEOID:2c6e5a6...| 2015-08-31|\n",
            "|         US|   16743221|R2AVTBDIVG2AW4|B00XQKYYYE|     455647274|Best BBQ Meat Cla...| Lawn and Garden|          5|           26|         26|   N|                N|BBQ Essential too...|I love the idea o...| 2015-08-31|\n",
            "|         US|   14749576|R1Z2LNN3FANMTO|B00GJEPP92|     670164064|Char-Griller Akor...| Lawn and Garden|          1|           20|         24|   N|                N|Would NOT recomme...|Would be great if...| 2015-08-31|\n",
            "|         US|   25322517|  RLNULBKRWNNR|B00ZUQCUOS|     992803790|Self Watering Pla...| Lawn and Garden|          5|           42|         43|   N|                Y|           Good pots|Very good looking...| 2015-08-31|\n",
            "|         US|   14479930| R9QNQUL94RX1F|B00W6PJ7PG|     358771769|Large Brazilian H...| Lawn and Garden|          3|           27|         33|   N|                Y|... for my boys w...|Bought this chair...| 2015-08-31|\n",
            "|         US|   36328996| RTULFZTUS1VBP|B001FFTGP4|     503395058|Insect Repellent ...| Lawn and Garden|          5|           51|         52|   N|                Y|       great product|We spray our yard...| 2015-08-31|\n",
            "|         US|   45460744|R1BM9RBQWI62O2|B0135OA3PO|     203390101|Star Shower As Se...| Lawn and Garden|          5|           43|         60|   N|                N|Easy lighting sol...|I've been using l...| 2015-08-31|\n",
            "|         US|   44574456| RWB6V9IYCOJFX|B00ZVKCSGI|     258441149|Punchau Lawn Aera...| Lawn and Garden|          4|           39|         41|   N|                Y|Better than cramp...|I got these since...| 2015-08-31|\n",
            "|         US|   36328996|R15FA7GCXKC7YE|B00XI0X1EG|     701452023| Master 161 Splitter| Lawn and Garden|          1|           40|         41|   N|                Y|Plastic broke aft...|Loved this so muc...| 2015-08-31|\n",
            "|         US|   14004675|R2OQAI6AV8AH8Z|B00GSZBTSI|     287959231|Scala Home Barbeq...| Lawn and Garden|          1|           19|         32|   N|                Y|Ripped after 11 m...|Purchased this it...| 2015-08-31|\n",
            "|         US|   14713147|R2XD5CWZ4Z87ZR|B00F0LFNO2|      97345812|Ortho 0202310 Aer...| Lawn and Garden|          5|           19|         25|   N|                Y|I HAD To Write A ...|This is the kind ...| 2015-08-31|\n",
            "|         US|   15412559|R3LLBXVCEY5JKB|B0086O04AI|     287084771|Herb Seeds - Lemo...| Lawn and Garden|          1|           33|         35|   N|                Y|but seems like a ...|Shipped from Sing...| 2015-08-31|\n",
            "|         US|   18048088| RQWM8U7YH93TT|B00CAVMMMG|     574876622|Grape Solar GS-ST...| Lawn and Garden|          4|           92|         93|   N|                N|Do The Math Befor...|Having read some ...| 2015-08-31|\n",
            "|         US|   18469685|R2DEO6P7BEZ9UI|B00KDR5Z8W|     519223542|Aspects ASPECTS43...| Lawn and Garden|          5|           38|         38|   N|                Y|Day 1 and Several...|I just received i...| 2015-08-31|\n",
            "|         US|   43748997|R2CKYIHUSK3IEP|B010PWBNNK|     461072629|Elucto Electric B...| Lawn and Garden|          1|           74|         88|   N|                Y|amazingly useless...|UPDATE: About 10 ...| 2015-08-31|\n",
            "|         US|    1459177| RY0DMUQKNF8MT|B004R47NCS|     911589010|24-ft. Round Over...| Lawn and Garden|          5|           32|         33|   N|                Y|It was the best p...|I ordered (and in...| 2015-08-31|\n",
            "|         US|     212947|R33XCAJDTPOUQS|B00PWXE7VS|     622031901|Grand Wishing Wel...| Lawn and Garden|          5|           22|         23|   N|                Y|          Five Stars|Really love it. M...| 2015-08-31|\n",
            "+-----------+-----------+--------------+----------+--------------+--------------------+----------------+-----------+-------------+-----------+----+-----------------+--------------------+--------------------+-----------+\n",
            "only showing top 20 rows\n",
            "\n"
          ]
        }
      ]
    },
    {
      "cell_type": "code",
      "source": [
        "total_reviews = df.count()\n",
        "print(total_reviews)"
      ],
      "metadata": {
        "colab": {
          "base_uri": "https://localhost:8080/"
        },
        "id": "CG6JBMLCj02j",
        "outputId": "9c7bddca-5e30-449f-e8c4-e95bfe2789c2"
      },
      "execution_count": 26,
      "outputs": [
        {
          "output_type": "stream",
          "name": "stdout",
          "text": [
            "2557288\n"
          ]
        }
      ]
    },
    {
      "cell_type": "code",
      "source": [
        "\n",
        "total_y_reviews = vine_y_review_df.count() \n",
        "print(total_y_reviews)\n"
      ],
      "metadata": {
        "colab": {
          "base_uri": "https://localhost:8080/"
        },
        "id": "_QpQ_nuda-xL",
        "outputId": "760e17b8-5b58-4e1a-ea25-c61075186e0c"
      },
      "execution_count": 24,
      "outputs": [
        {
          "output_type": "stream",
          "name": "stdout",
          "text": [
            "386\n"
          ]
        }
      ]
    },
    {
      "cell_type": "code",
      "source": [
        "total_n_reviews = vine_n_review_df.count() \n",
        "print(total_n_reviews)"
      ],
      "metadata": {
        "colab": {
          "base_uri": "https://localhost:8080/"
        },
        "id": "ecBdxE4EhCwE",
        "outputId": "06a995bf-dd63-443f-931c-fec6f9a62bfe"
      },
      "execution_count": 25,
      "outputs": [
        {
          "output_type": "stream",
          "name": "stdout",
          "text": [
            "48717\n"
          ]
        }
      ]
    },
    {
      "cell_type": "code",
      "source": [
        "star_5_rating = vine_y_review_df.filter(vine_y_review_df[\"star_rating\"] == 5)\n",
        "print(star_5_rating.count())"
      ],
      "metadata": {
        "colab": {
          "base_uri": "https://localhost:8080/"
        },
        "id": "W5cPYEmBbMkK",
        "outputId": "cc7617b5-827a-47fa-8105-945c7af45c9b"
      },
      "execution_count": 27,
      "outputs": [
        {
          "output_type": "stream",
          "name": "stdout",
          "text": [
            "176\n"
          ]
        }
      ]
    },
    {
      "cell_type": "code",
      "source": [
        "star_5_n_rating = vine_n_review_df.filter(vine_n_review_df[\"star_rating\"] == 5)\n",
        "print(star_5_n_rating.count())"
      ],
      "metadata": {
        "colab": {
          "base_uri": "https://localhost:8080/"
        },
        "id": "Sd_YCpcNgaVX",
        "outputId": "223cafcb-211b-44a4-ed05-aedcf4cc929d"
      },
      "execution_count": 28,
      "outputs": [
        {
          "output_type": "stream",
          "name": "stdout",
          "text": [
            "24026\n"
          ]
        }
      ]
    },
    {
      "cell_type": "code",
      "source": [
        "percentage_Y_5_rating = star_5_rating.count()/total_y_reviews * 100\n",
        "print(percentage_Y_5_rating)"
      ],
      "metadata": {
        "colab": {
          "base_uri": "https://localhost:8080/"
        },
        "id": "NDPl5FI3kAw6",
        "outputId": "8fa28c7b-7c12-4761-f9df-67b8a8b1c39f"
      },
      "execution_count": 29,
      "outputs": [
        {
          "output_type": "stream",
          "name": "stdout",
          "text": [
            "45.59585492227979\n"
          ]
        }
      ]
    },
    {
      "cell_type": "code",
      "source": [
        "percentage_N_5_rating = star_5_n_rating.count()/total_n_reviews * 100\n",
        "print(percentage_N_5_rating)"
      ],
      "metadata": {
        "colab": {
          "base_uri": "https://localhost:8080/"
        },
        "id": "Okk-tHYzklC7",
        "outputId": "7a223071-885c-4dbe-d718-2f7bdd17e40d"
      },
      "execution_count": 30,
      "outputs": [
        {
          "output_type": "stream",
          "name": "stdout",
          "text": [
            "49.317486708951705\n"
          ]
        }
      ]
    }
  ]
}